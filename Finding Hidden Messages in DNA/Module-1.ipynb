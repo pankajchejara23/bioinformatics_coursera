{
 "cells": [
  {
   "cell_type": "markdown",
   "id": "f25e72e6",
   "metadata": {},
   "source": [
    "# Module 1\n"
   ]
  },
  {
   "cell_type": "markdown",
   "id": "25db2177",
   "metadata": {},
   "source": [
    "## #1 Problem: Counting words\n",
    "The problem asks to count the number of times a given `pattern` appears in a given `text`. \n",
    "\n",
    "For exmaple, `ACTAT` appears in  `ACAACTATGCATACTATCGGGAACTATCCT` 3 times. \n",
    "```\n",
    "PatternCount('ACAACTATGCATACTATCGGGAACTATCCT', 'ACTAT') = 3\n",
    "```\n",
    "\n",
    "source link: https://cogniterra.org/lesson/30272/step/6?unit=22346"
   ]
  },
  {
   "cell_type": "code",
   "execution_count": 1,
   "id": "6dedce56",
   "metadata": {},
   "outputs": [
    {
     "data": {
      "text/plain": [
       "3"
      ]
     },
     "execution_count": 1,
     "metadata": {},
     "output_type": "execute_result"
    }
   ],
   "source": [
    "def PatternCount(text, pattern):\n",
    "    \"\"\"\n",
    "    Count the occurrences of pattern in the text.\n",
    "    \n",
    "    \n",
    "    Args:\n",
    "    text(str) - A string of nucleotide bases (e.g., A, C, G, T)\n",
    "    pattern(str) - A k-mer pattern (a smaller string of k length) \n",
    "    \n",
    "    Returns:\n",
    "    int: Number of times pattern appears in the text\n",
    "    \"\"\"\n",
    "    # Size of pattern\n",
    "    k = len(pattern)\n",
    "    \n",
    "    freq = 0\n",
    "    \n",
    "    # Number of cases to compare\n",
    "    num_cases = len(text) - k + 1\n",
    "    \n",
    "    for i in range(num_cases):\n",
    "        # Extract a k-length substring from the text at ith position\n",
    "        sub = text[i:i+k]\n",
    "        \n",
    "        # Compare substring and pattern \n",
    "        if sub == pattern:\n",
    "            freq += 1\n",
    "        \n",
    "    return freq\n",
    "\n",
    "# Calling PatternCount\n",
    "PatternCount('ACAACTATGCATACTATCGGGAACTATCCT', 'ACTAT')"
   ]
  },
  {
   "cell_type": "markdown",
   "id": "6f66a7ca",
   "metadata": {},
   "source": [
    "## #2 Problem: Frequent Words\n",
    "The problem is to find the most frequent k-mer in the text. In other words, a k-mer pattern, with highest frequency in the given text.\n",
    "\n",
    "Example: The most frequent 3-mer pattern in the text `ACTGACTCCCACCCC` is `ACT`.\n",
    "```\n",
    "FrequentWords('ACTGACTCCCACCCC',3) = ACT\n",
    "```\n",
    "\n",
    "Here, we can count frequencies of all k-mers present in the text and then choose the one with highest frequency.\n",
    "\n",
    "source link: https://cogniterra.org/lesson/30272/step/13?unit=22346"
   ]
  },
  {
   "cell_type": "markdown",
   "id": "81a48df9",
   "metadata": {},
   "source": [
    "### Initial version (time complexity: n^2)\n",
    "For the initial version, we will utilize our PatternCount function. We will count the frequency of each pattern present in the text. We will then take the maximum frequency and extract all patterns of that frequency."
   ]
  },
  {
   "cell_type": "code",
   "execution_count": 2,
   "id": "9e597941",
   "metadata": {},
   "outputs": [
    {
     "data": {
      "text/plain": [
       "['CCC']"
      ]
     },
     "execution_count": 2,
     "metadata": {},
     "output_type": "execute_result"
    }
   ],
   "source": [
    "def FrequentWords(text,k):\n",
    "    \"\"\"\n",
    "    Find most-frequent k-mers present in the text. \n",
    "    \n",
    "    A most-frequent k-mer is a k-length substring in the text with highest frequeny among other k-mers.\n",
    "    \n",
    "    Args:\n",
    "    text(str) - A string of nucleotide bases (e.g., A, C, G, T)\n",
    "    k(int) - Length of pattern\n",
    "    \n",
    "    Returns:\n",
    "    list: A list of most-frequent k-mers\n",
    "    \"\"\"\n",
    "    # List to store frequencies of patters\n",
    "    counts = []\n",
    "    \n",
    "    # List to store frequent patterns\n",
    "    freq_patterns = []\n",
    "    \n",
    "    # Text length\n",
    "    text_len = len(text)\n",
    "    \n",
    "    ## A slower algorithm implementing pseudocode given here: https://cogniterra.org/lesson/30272/step/8?unit=22346\n",
    "    ## Time complexity: n^2\n",
    "    for i in range(text_len - k + 1):\n",
    "        # Pattern in the text\n",
    "        pattern = text[i:i+k]\n",
    "        \n",
    "        # Count frequencies of the pattern\n",
    "        count = PatternCount(text,pattern)\n",
    "        counts.append(count)\n",
    "        \n",
    "    # Maximum count\n",
    "    max_count = max(counts)\n",
    "    \n",
    "    # All k-mers with max_count occurrences\n",
    "    for i in range(text_len - k + 1):\n",
    "        if counts[i] == max_count:\n",
    "            # Pattern in the text\n",
    "            pattern = text[i:i+k]\n",
    "            \n",
    "            # Add pattern to the list of most-frequenst k-mers\n",
    "            freq_patterns.append(pattern)\n",
    "    \n",
    "    # Remove duplicates\n",
    "    uniq_pattern = list(set(freq_patterns))\n",
    "    \n",
    "    return uniq_pattern\n",
    "\n",
    "FrequentWords('ACTGACTCCCACCCC',3)"
   ]
  },
  {
   "cell_type": "markdown",
   "id": "dafb9252",
   "metadata": {},
   "source": [
    "### Faster version (time complexity: n)\n",
    "In this version, we will make use of dictionary. This time we will do a single scan and compute each pattern's frequency. \n",
    "\n"
   ]
  },
  {
   "cell_type": "code",
   "execution_count": 3,
   "id": "c1eb4ec3",
   "metadata": {},
   "outputs": [],
   "source": [
    "def FrequencyTable(text,k):\n",
    "    \"\"\"\n",
    "    Prepares a frequency table for each pattern in the text\n",
    "    \n",
    "    Args:\n",
    "    text(str) - A string of nucleotide bases (e.g., A, C, G, T)\n",
    "    k(int) - Length of pattern\n",
    "    \n",
    "    Returns:\n",
    "    dict: A dictionary with patterns as keys and frequencies as values.\n",
    "    \"\"\"\n",
    "    # Initialize frequency table\n",
    "    freq_table = dict()\n",
    "    \n",
    "    text_len = len(text)\n",
    "    \n",
    "    for i in range(text_len - k + 1):\n",
    "        pattern = text[i:i+k]\n",
    "        \n",
    "        # Add pattern if does not exists in the table otherwise increase its frequency\n",
    "        if pattern not in freq_table:\n",
    "            freq_table[pattern] = 1\n",
    "        else:\n",
    "            freq_table[pattern] += 1\n",
    "        \n",
    "    return freq_table\n",
    "\n",
    "\n",
    "def BetterFrequentWords(text,k):\n",
    "    \"\"\"\n",
    "    A faster version of FrequentWords function.\n",
    "    \n",
    "    Args:\n",
    "    text(str) - A string of nucleotide bases (e.g., A, C, G, T)\n",
    "    k(int) - Length of pattern\n",
    "    \n",
    "    Returns:\n",
    "    list: A list of most-frequent k-mers\n",
    "    \"\"\"\n",
    "    # Initialise the list for most-frequenst k-mer patterns\n",
    "    freq_patterns = []\n",
    "    \n",
    "    # Get frequency table\n",
    "    freq_table = FrequencyTable(text, k)\n",
    "    \n",
    "    # Maximum frequency \n",
    "    max_count = max(freq_table.values())\n",
    "    \n",
    "    # Extract all patterns with maximum frequencies\n",
    "    for pattern, freq in freq_table.items():\n",
    "        if freq == max_count:\n",
    "            freq_patterns.append(pattern)\n",
    "    \n",
    "    return freq_patterns\n"
   ]
  },
  {
   "cell_type": "code",
   "execution_count": 15,
   "id": "b3188453",
   "metadata": {},
   "outputs": [
    {
     "name": "stdout",
     "output_type": "stream",
     "text": [
      "###### FrequentWords\n",
      "Time:0:00:10.775051\n",
      "\n",
      "\n",
      "###### BetterFrequentWords\n",
      "Time:0:00:00.002082\n"
     ]
    }
   ],
   "source": [
    "from datetime import datetime \n",
    "\n",
    "# Sample sequence of 10000 bases\n",
    "sample_file = open('10000seq.txt')\n",
    "sample_seq = sample_file.read()\n",
    "\n",
    "# Execute and log time\n",
    "print('###### FrequentWords')\n",
    "start_time = datetime.now()\n",
    "patterns1 = FrequentWords(sample_seq,10)\n",
    "end_time = datetime.now()\n",
    "print(f'Time:{end_time-start_time}')\n",
    "\n",
    "print('\\n')\n",
    "\n",
    "# Execute and log time\n",
    "print('###### BetterFrequentWords')\n",
    "start_time = datetime.now()\n",
    "patterns2 = BetterFrequentWords(sample_seq,10)\n",
    "end_time = datetime.now()\n",
    "print(f'Time:{end_time-start_time}')"
   ]
  },
  {
   "cell_type": "markdown",
   "id": "18166854",
   "metadata": {},
   "source": [
    "## #3 Problem: Reverse Complement\n",
    "In this problem, we need to build a reverse complement of a given string. We will use the knowledge about bonding among bases, i.e., A and T bind together; C and G bind with each other. \n",
    "\n",
    "source link: https://cogniterra.org/lesson/30273/step/2?unit=22347"
   ]
  },
  {
   "cell_type": "code",
   "execution_count": 27,
   "id": "e3029a66",
   "metadata": {},
   "outputs": [
    {
     "data": {
      "text/plain": [
       "'ACCGGGTTTT'"
      ]
     },
     "execution_count": 27,
     "metadata": {},
     "output_type": "execute_result"
    }
   ],
   "source": [
    "def reverse_complement(dna):\n",
    "    \"\"\"\n",
    "    Builds a reverse complement of given dna string.\n",
    "    \n",
    "    A reverse complement maps the bases in original string with \n",
    "    their complement bases (i.e., A <--> T, C <--> G) and \n",
    "    returns the resultant string in reverse order.\n",
    "    \n",
    "    Args:\n",
    "    dna(str) - A string of nucleotide bases (e.g., A, C, G, T)\n",
    "    \n",
    "    Returns:\n",
    "    str: A reverse complement of dna\n",
    "    \"\"\"\n",
    "    # Prepare mapping dictionary\n",
    "    complement = {}\n",
    "    complement['A'] = 'T'\n",
    "    complement['T'] = 'A'\n",
    "    complement['C'] = 'G'\n",
    "    complement['G'] = 'C'\n",
    "    \n",
    "    # Initialize to store \n",
    "    reverse = []\n",
    "    \n",
    "    # Iterate for each base in dna\n",
    "    for base in list(dna):\n",
    "        # Add reverse complement of the base\n",
    "        reverse.append(complement[base])\n",
    "    \n",
    "    # Reversing the mapped sequence\n",
    "    return ''.join(reverse[::-1])\n",
    "\n",
    "reverse_complement('AAAACCCGGT')"
   ]
  },
  {
   "cell_type": "code",
   "execution_count": null,
   "id": "e6499b39",
   "metadata": {},
   "outputs": [],
   "source": []
  }
 ],
 "metadata": {
  "kernelspec": {
   "display_name": "Python 3 (ipykernel)",
   "language": "python",
   "name": "python3"
  },
  "language_info": {
   "codemirror_mode": {
    "name": "ipython",
    "version": 3
   },
   "file_extension": ".py",
   "mimetype": "text/x-python",
   "name": "python",
   "nbconvert_exporter": "python",
   "pygments_lexer": "ipython3",
   "version": "3.11.5"
  }
 },
 "nbformat": 4,
 "nbformat_minor": 5
}
